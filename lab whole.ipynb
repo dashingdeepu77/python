{
 "cells": [
  {
   "cell_type": "code",
   "execution_count": 20,
   "metadata": {},
   "outputs": [
    {
     "name": "stdout",
     "output_type": "stream",
     "text": [
      "Paragraph: \n",
      "My name is Deepak from class MCAB. My register number is 2347220 (2023-2025). The domain I have selected is car sales management System. Unlike all the Sales of the car in the company and focusing on the customer and Inventory etc\n"
     ]
    },
    {
     "name": "stdout",
     "output_type": "stream",
     "text": [
      "The count of the word' sales 'in the paragraph is 1\n"
     ]
    }
   ],
   "source": [
    "\n",
    "#1.a)Write a paragraph about introducing you and your selected domain (include Full Name, domain name, register number, year …….).\n",
    "#1.a)Write a python program to count the frequency of any specific word (your domain name) in the paragraph.\n",
    "count=0\n",
    "find=\"\"\n",
    "para=\"Paragraph: \\nMy name is Deepak from class MCAB. My register number is 2347220 (2023-2025). The domain I have selected is car sales management System. Unlike all the Sales of the car in the company and focusing on the customer\"\n",
    "print(para)\n",
    "words=para.split()\n",
    "find=input(\"Enter the word to search for:\")\n",
    "for i in words:\n",
    "  if i==find:\n",
    "    count=count+1\n",
    "print(\"The count of the word'\",find,\"'in the paragraph is\",count)\n",
    "\n",
    "\n"
   ]
  },
  {
   "cell_type": "code",
   "execution_count": 22,
   "metadata": {},
   "outputs": [
    {
     "name": "stdout",
     "output_type": "stream",
     "text": [
      "Paragraph: \n",
      "My name is Deepak from class MCAB. My register number is 2347220 (2023-2025). The domain I have selected Car sales Management System. unlike all is Sales of cars and Inventory, and focusing customers\n",
      "Paragraph: :<class:str>\n",
      "My :<class:str>\n",
      "name :<class:str>\n",
      "is :<class:str>\n",
      "Deepak :<class:str>\n",
      "from :<class:str>\n",
      "class :<class:str>\n",
      "MCAB. :<class:str>\n",
      "My :<class:str>\n",
      "register :<class:str>\n",
      "number :<class:str>\n",
      "is :<class:str>\n",
      "2347220 :<class:int>\n",
      "(2023-2025). :<class:str>\n",
      "The :<class:str>\n",
      "domain :<class:str>\n",
      "I :<class:str>\n",
      "have :<class:str>\n",
      "selected :<class:str>\n",
      "Car :<class:str>\n",
      "sales :<class:str>\n",
      "Management :<class:str>\n",
      "System. :<class:str>\n",
      "unlike :<class:str>\n",
      "all :<class:str>\n",
      "is :<class:str>\n",
      "Sales :<class:str>\n",
      "of :<class:str>\n",
      "cars :<class:str>\n",
      "and :<class:str>\n",
      "Inventory, :<class:str>\n",
      "and :<class:str>\n",
      "focusing :<class:str>\n",
      "customers :<class:str>\n"
     ]
    }
   ],
   "source": [
    "#1.b)Write a python program to display all the datatypes of selected specific element in the paragraph. (For example:– name - string, reg.no - int, marks - float, etc.)\n",
    "para=\"Paragraph: \\nMy name is Deepak from class MCAB. My register number is 2347220 (2023-2025). The domain I have selected Car sales Management System. unlike all is Sales of cars and Inventory, and focusing customers\"\n",
    "print(para)\n",
    "words=para.split()\n",
    "for i in words:\n",
    "    for j in i:\n",
    "        if j in [\"0\",\"1\",\"2\",\"3\",\"4\",\"5\",\"6\",\"7\",\"8\",\"9\"]:\n",
    "            if \".\" in j:\n",
    "                print(i,\":<class:float>\")\n",
    "                break\n",
    "            else:\n",
    "                print(i,\":<class:int>\")\n",
    "                break\n",
    "        else:\n",
    "             print(i,\":<class:str>\")\n",
    "             break "
   ]
  },
  {
   "cell_type": "code",
   "execution_count": 23,
   "metadata": {},
   "outputs": [
    {
     "name": "stdout",
     "output_type": "stream",
     "text": [
      "Paragraph: \n",
      "\n",
      "My name is Deepak from class MCAB. My register number is 2347220 (2023-2025). The domain I have selected Car sales management System. Unlike all the Sales of the cars, Inventory, Focusing on the Customer\n",
      "No. of Alphabets : 147 No. of Numbers : 15 No. of Special Characters : 41\n"
     ]
    }
   ],
   "source": [
    "#1.c)Write a python program to count the number of alphabets, numeric and other special symbols in the paragraph.\n",
    "countnum=0\n",
    "countalpha=0\n",
    "countspcl=0\n",
    "print(\"Paragraph: \\n\")\n",
    "para=\"My name is Deepak from class MCAB. My register number is 2347220 (2023-2025). The domain I have selected Car sales management System. Unlike all the Sales of the cars, Inventory, Focusing on the Customer\"\n",
    "print(para)\n",
    "l=list(para)\n",
    "for i in l:\n",
    "  if (i>='0' and i<='9'):\n",
    "    countnum=countnum+1\n",
    "  elif ((i >= 'a' and i <= 'z') or (i >= 'A' and i <= 'Z')):\n",
    "    countalpha=countalpha+1\n",
    "  else:\n",
    "    countspcl=countspcl+1\n",
    "print(\"No. of Alphabets :\",countalpha,\"No. of Numbers :\",countnum,\"No. of Special Characters :\",countspcl)"
   ]
  },
  {
   "cell_type": "code",
   "execution_count": 24,
   "metadata": {},
   "outputs": [
    {
     "name": "stdout",
     "output_type": "stream",
     "text": [
      "Original Set: {True, 'managerid', 2022, 1000, 'Username ', 'UserId'}\n",
      "Element popped using pop(): True, New Set: {'managerid', 2022, 1000, 'Username ', 'UserId'}\n",
      "Set after clear(): set()\n",
      "Set after discarding '2022': {True, 4.75, 1000, 'Username ', 'UserId'}\n",
      "The set 'data_set' no longer exists.\n"
     ]
    }
   ],
   "source": [
    "#pop()\n",
    "def set_operations_example():\n",
    "    data_set = {1000, 2022, \"UserId\", True, \"Username \", \"managerid\"}\n",
    "\n",
    "    print(\"Original Set:\", data_set)\n",
    "\n",
    "    popped_element = data_set.pop()\n",
    "    print(f\"Element popped using pop(): {popped_element}, New Set: {data_set}\")\n",
    "\n",
    "    data_set.clear()\n",
    "    print(\"Set after clear():\", data_set)\n",
    "\n",
    "    data_set = {1000, 2022, \"UserId\", True, \"Username \", 4.75}\n",
    "    data_set.discard(2022)\n",
    "    print(\"Set after discarding '2022':\", data_set)\n",
    "\n",
    "    del data_set\n",
    "    try:\n",
    "        print(\"Set after deleting:\", data_set)\n",
    "    except NameError:\n",
    "        print(\"The set 'data_set' no longer exists.\")\n",
    "\n",
    "set_operations_example()"
   ]
  },
  {
   "cell_type": "code",
   "execution_count": 30,
   "metadata": {},
   "outputs": [
    {
     "name": "stdout",
     "output_type": "stream",
     "text": [
      "Unpacked Variables:\n",
      "cust ID: custId789\n",
      "Email: deepak@gmail.com\n",
      "Password: password123\n",
      "Manager NAME: managername\n"
     ]
    }
   ],
   "source": [
    "#unpacked\n",
    "def tuple_operations_example():\n",
    "    user_data = (\"custId789\", \"deepak@gmail.com\", \"password123\", \"manager001\", \"managername\")\n",
    "    (cust_id, email, password, managerid, manager_name ) = user_data\n",
    "    \n",
    "    print(\"Unpacked Variables:\")\n",
    "    print(f\"cust ID: {cust_id}\")\n",
    "    print(f\"Email: {email}\")\n",
    "    print(f\"Password: {password}\")\n",
    "    print(f\"Manager NAME: {manager_name}\")\n",
    "\n",
    "tuple_operations_example()"
   ]
  },
  {
   "cell_type": "code",
   "execution_count": 1,
   "metadata": {},
   "outputs": [
    {
     "name": "stdout",
     "output_type": "stream",
     "text": [
      "Count of 'C' = 1\n",
      "Count of 'a' = 4\n",
      "Count of 'r' = 1\n",
      "Count of 'S' = 1\n",
      "Count of 'a' = 4\n",
      "Count of ' l' = 0\n",
      "Count of 'e' = 3\n",
      "Count of 's' = 1\n",
      "Count of 'M' = 1\n",
      "Count of 'a' = 4\n",
      "Count of 'n' = 2\n",
      "Count of 'a' = 4\n",
      "Count of 'g' = 1\n",
      "Count of 'e' = 3\n",
      "Count of 'm' = 1\n",
      "Count of ' e' = 0\n",
      "Count of 'n' = 2\n",
      "Count of 't' = 1\n"
     ]
    }
   ],
   "source": [
    "#count character\n",
    "def count_characters(domain, character):\n",
    "    return domain.count(character)\n",
    "\n",
    "def main():\n",
    "    domain_name = \"Car Sales Management\"\n",
    "    characters = ['C', 'a', 'r', 'S', 'a', ' l', 'e', 's', 'M', 'a', 'n', 'a', 'g', 'e', 'm', ' e', 'n', 't' ]\n",
    "\n",
    "    for char in characters:\n",
    "        count = count_characters(domain_name, char)\n",
    "        print(f\"Count of '{char}' = {count}\")\n",
    "\n",
    "main()"
   ]
  },
  {
   "cell_type": "code",
   "execution_count": 1,
   "metadata": {},
   "outputs": [
    {
     "name": "stdout",
     "output_type": "stream",
     "text": [
      "Original String: Car Sales Management\n",
      "Substring from index 0 to 4: Car S\n",
      "Substring from index 6 to 15: les Manage\n",
      "Every second character: CrSlsMngmn\n",
      "Reverse the string: tnemeganaM selaS raC\n",
      "Last character using negative index: t\n",
      "Second last character using negative index: n\n",
      "Substring from -7 to -1 using negative index: agement\n"
     ]
    }
   ],
   "source": [
    "#slicing \n",
    "def main():\n",
    "    domain_name = \"Car Sales Management\"\n",
    "\n",
    "    print(\"Original String:\", domain_name)\n",
    "    print(\"Substring from index 0 to 4:\", domain_name[0:5])      \n",
    "    print(\"Substring from index 6 to 15:\", domain_name[6:16])     \n",
    "    print(\"Every second character:\", domain_name[::2])           \n",
    "    print(\"Reverse the string:\", domain_name[::-1])               \n",
    "\n",
    "    print(\"Last character using negative index:\", domain_name[-1])\n",
    "    print(\"Second last character using negative index:\", domain_name[-2])\n",
    "    print(\"Substring from -7 to -1 using negative index:\", domain_name[-7:]) \n",
    "\n",
    "main()"
   ]
  }
 ],
 "metadata": {
  "kernelspec": {
   "display_name": "Python 3",
   "language": "python",
   "name": "python3"
  },
  "language_info": {
   "codemirror_mode": {
    "name": "ipython",
    "version": 3
   },
   "file_extension": ".py",
   "mimetype": "text/x-python",
   "name": "python",
   "nbconvert_exporter": "python",
   "pygments_lexer": "ipython3",
   "version": "3.11.4"
  },
  "orig_nbformat": 4
 },
 "nbformat": 4,
 "nbformat_minor": 2
}
